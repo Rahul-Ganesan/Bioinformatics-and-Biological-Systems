{
 "cells": [
  {
   "cell_type": "code",
   "execution_count": 1,
   "source": [
    "#import Biopython\n",
    "import Bio as Bio"
   ],
   "outputs": [],
   "metadata": {}
  },
  {
   "cell_type": "code",
   "execution_count": 2,
   "source": [
    "#import our three important packages\n",
    "from Bio import SeqIO\n",
    "from Bio import AlignIO\n",
    "from Bio import Phylo\n",
    "from Bio.Phylo.TreeConstruction import DistanceCalculator\n",
    "from Bio.Phylo.TreeConstruction import DistanceTreeConstructor"
   ],
   "outputs": [],
   "metadata": {}
  },
  {
   "cell_type": "code",
   "execution_count": 3,
   "source": [
    "#import the sequences we will use. These are 16s sequences from GenBank\n",
    "#example: https://www.ncbi.nlm.nih.gov/nuccore/FJ039971.1?report=genbank \n",
    "t1 = SeqIO.read(\"sequence1.fasta\", \"fasta\")\n",
    "t2 = SeqIO.read(\"sequence2.fasta\", \"fasta\")\n",
    "t3 = SeqIO.read(\"sequence3.fasta\", \"fasta\")\n",
    "t4 = SeqIO.read(\"sequence4.fasta\", \"fasta\")\n",
    "t5 = SeqIO.read(\"sequence5.fasta\", \"fasta\")\n",
    "t6 = SeqIO.read(\"sequence6.fasta\", \"fasta\")\n",
    "t7 = SeqIO.read(\"sequence7.fasta\", \"fasta\")\n",
    "t8 = SeqIO.read(\"sequence8.fasta\", \"fasta\")"
   ],
   "outputs": [],
   "metadata": {}
  },
  {
   "cell_type": "code",
   "execution_count": 4,
   "source": [
    "#rename each of the sequences \n",
    "#this step is not required, it will just make the tree easier to understand \n",
    "print(t1.description)\n",
    "t1.id = '05'\n",
    "t2.id = '06'\n",
    "t3.id = '07'\n",
    "t4.id = '08'\n",
    "t5.id = '09'\n",
    "t6.id = '10'\n",
    "t7.id = '11'\n",
    "t8.id = '12'"
   ],
   "outputs": [
    {
     "output_type": "stream",
     "name": "stdout",
     "text": [
      "KT388705.1 Influenza A virus (A/goose/Taiwan/TNO20/2015(H5N8)) segment 1 cRNA sequence\n"
     ]
    }
   ],
   "metadata": {}
  },
  {
   "cell_type": "code",
   "execution_count": 5,
   "source": [
    "# Combine all of the individual sequences into a new file \n",
    "turtles = SeqIO.write([t1,t2,t3,t4,t5,t6,t7], \"Taiwan_Goose.fasta\", \"fasta\")"
   ],
   "outputs": [],
   "metadata": {}
  },
  {
   "cell_type": "code",
   "execution_count": 6,
   "source": [
    "# Open the alignment file as a MultipleSeqAlignment object \n",
    "with open(\"Taiwan_Goose.aln\",\"r\") as aln: \n",
    "    alignment = AlignIO.read(aln,\"clustal\")\n",
    "print(type(alignment))"
   ],
   "outputs": [
    {
     "output_type": "stream",
     "name": "stdout",
     "text": [
      "<class 'Bio.Align.MultipleSeqAlignment'>\n"
     ]
    }
   ],
   "metadata": {}
  },
  {
   "cell_type": "code",
   "execution_count": 7,
   "source": [
    "# Open and initiate the Distance Calculator using the Identity model \n",
    "from Bio.Phylo.TreeConstruction import DistanceCalculator \n",
    "calculator = DistanceCalculator('identity')"
   ],
   "outputs": [],
   "metadata": {}
  },
  {
   "cell_type": "code",
   "execution_count": 8,
   "source": [
    "# Write the Distance Matrix \n",
    "distance_matrix = calculator.get_distance(alignment)\n",
    "print(distance_matrix)"
   ],
   "outputs": [
    {
     "output_type": "stream",
     "name": "stdout",
     "text": [
      "07\t0\n",
      "10\t0.6125525946704067\t0\n",
      "08\t0.6570827489481066\t0.5767882187938289\t0\n",
      "06\t0.6746143057503506\t0.6539270687237027\t0.6090462833099579\t0\n",
      "11\t0.6332398316970547\t0.44740532959326784\t0.5094670406732118\t0.6633941093969145\t0\n",
      "05\t0.6574333800841514\t0.6318373071528751\t0.6476157082748948\t0.6009817671809257\t0.6756661991584852\t0\n",
      "09\t0.6023842917251052\t0.4828190743338009\t0.5213884992987377\t0.5988779803646564\t0.43127629733520334\t0.5631136044880786\t0\n",
      "\t07\t10\t08\t06\t11\t05\t09\n"
     ]
    }
   ],
   "metadata": {}
  },
  {
   "cell_type": "code",
   "execution_count": 9,
   "source": [
    "# Open and initiate the Tree Constructor \n",
    "from Bio.Phylo.TreeConstruction import DistanceTreeConstructor\n",
    "constructor = DistanceTreeConstructor(calculator)"
   ],
   "outputs": [],
   "metadata": {}
  },
  {
   "cell_type": "code",
   "execution_count": 10,
   "source": [
    "Goose_tree = constructor.build_tree(alignment)\n",
    "Goose_tree.rooted = True\n",
    "print(Goose_tree)"
   ],
   "outputs": [
    {
     "output_type": "stream",
     "name": "stdout",
     "text": [
      "Tree(rooted=True)\n",
      "    Clade(branch_length=0, name='Inner5')\n",
      "        Clade(branch_length=0.02406206171107997, name='Inner3')\n",
      "            Clade(branch_length=0.27749532491818607, name='08')\n",
      "            Clade(branch_length=0.03219962599345488, name='Inner2')\n",
      "                Clade(branch_length=0.034580995792426406, name='Inner1')\n",
      "                    Clade(branch_length=0.29807152875175313, name='05')\n",
      "                    Clade(branch_length=0.30291023842917253, name='06')\n",
      "                Clade(branch_length=0.3309519635343618, name='07')\n",
      "        Clade(branch_length=0.022221248246844377, name='Inner4')\n",
      "            Clade(branch_length=0.20536027349228614, name='11')\n",
      "            Clade(branch_length=0.2420450561009817, name='10')\n",
      "        Clade(branch_length=0.21112377279102382, name='09')\n"
     ]
    }
   ],
   "metadata": {}
  },
  {
   "cell_type": "code",
   "execution_count": 11,
   "source": [
    "# Save the tree to a new file \n",
    "Phylo.write(Goose_tree, \"Goose_tree.xml\", \"phyloxml\")"
   ],
   "outputs": [
    {
     "output_type": "execute_result",
     "data": {
      "text/plain": [
       "1"
      ]
     },
     "metadata": {},
     "execution_count": 11
    }
   ],
   "metadata": {}
  },
  {
   "cell_type": "code",
   "execution_count": 12,
   "source": [
    "# Import matplotlib and create a basic tree \n",
    "import matplotlib\n",
    "import matplotlib.pyplot as plt\n",
    "fig = Phylo.draw(Goose_tree)"
   ],
   "outputs": [
    {
     "output_type": "display_data",
     "data": {
      "image/png": "[encoded data removed]",
      "text/plain": [
       "<Figure size 432x288 with 1 Axes>"
      ]
     },
     "metadata": {
      "needs_background": "light"
     }
    }
   ],
   "metadata": {}
  },
  {
   "cell_type": "code",
   "execution_count": 13,
   "source": [
    "# Make a better looking tree using the features of matplotlib \n",
    "\n",
    "fig = plt.figure(figsize=(13, 5), dpi=100) # create figure & set the size \n",
    "matplotlib.rc('font', size=12)              # fontsize of the leaf and node labels \n",
    "matplotlib.rc('xtick', labelsize=10)       # fontsize of the tick labels\n",
    "matplotlib.rc('ytick', labelsize=10)       # fontsize of the tick labels\n",
    "#Goose_tree.ladderize()\n",
    "axes = fig.add_subplot(1, 1, 1)\n",
    "Phylo.draw(Goose_tree, axes=axes)\n",
    "fig.savefig(\"Goose_cladogram\")"
   ],
   "outputs": [
    {
     "output_type": "display_data",
     "data": {
      "image/png": "[encoded data removed]",
      "text/plain": [
       "<Figure size 1300x500 with 1 Axes>"
      ]
     },
     "metadata": {
      "needs_background": "light"
     }
    }
   ],
   "metadata": {}
  },
  {
   "cell_type": "code",
   "execution_count": 14,
   "source": [
    "constructor = DistanceTreeConstructor()\n",
    "tree = constructor.upgma(distance_matrix)"
   ],
   "outputs": [],
   "metadata": {}
  },
  {
   "cell_type": "code",
   "execution_count": 15,
   "source": [
    "# Draw the phylogenetic tree\n",
    "Phylo.draw(tree)\n",
    "\n",
    "# Print the phylogenetic tree in the terminal\n",
    "print('\\nPhylogenetic Tree\\n===================')\n",
    "Phylo.draw_ascii(tree)"
   ],
   "outputs": [
    {
     "output_type": "display_data",
     "data": {
      "image/png": "[encoded data removed]",
      "text/plain": [
       "<Figure size 432x288 with 1 Axes>"
      ]
     },
     "metadata": {
      "needs_background": "light"
     }
    },
    {
     "output_type": "stream",
     "name": "stdout",
     "text": [
      "\n",
      "Phylogenetic Tree\n",
      "===================\n",
      "          _________________________________________________________________ 05\n",
      "       __|\n",
      "      |  |_________________________________________________________________ 06\n",
      "  ____|\n",
      " |    |         ___________________________________________________________ 08\n",
      " |    |        |\n",
      " |    |________|             ______________________________________________ 09\n",
      "_|             |         ___|\n",
      " |             |________|   |______________________________________________ 11\n",
      " |                      |\n",
      " |                      |__________________________________________________ 10\n",
      " |\n",
      " |_____________________________________________________________________ 07\n",
      "\n"
     ]
    }
   ],
   "metadata": {}
  },
  {
   "cell_type": "code",
   "execution_count": 16,
   "source": [
    "constructor = DistanceTreeConstructor()\n",
    "tree = constructor.nj(distance_matrix)"
   ],
   "outputs": [],
   "metadata": {}
  },
  {
   "cell_type": "code",
   "execution_count": 17,
   "source": [
    "# Draw the phylogenetic tree\n",
    "Phylo.draw(tree)\n",
    "\n",
    "# Print the phylogenetic tree in the terminal\n",
    "#print('\\nPhylogenetic Tree\\n===================')\n",
    "#Phylo.draw_ascii(tree)"
   ],
   "outputs": [
    {
     "output_type": "display_data",
     "data": {
      "image/png": "[encoded data removed]",
      "text/plain": [
       "<Figure size 432x288 with 1 Axes>"
      ]
     },
     "metadata": {
      "needs_background": "light"
     }
    }
   ],
   "metadata": {}
  },
  {
   "cell_type": "code",
   "execution_count": null,
   "source": [],
   "outputs": [],
   "metadata": {}
  },
  {
   "cell_type": "code",
   "execution_count": null,
   "source": [],
   "outputs": [],
   "metadata": {}
  }
 ],
 "metadata": {
  "interpreter": {
   "hash": "c1456bc359684cb5a008a14a0c6d4169b80f5ee629c9b7faf6a6994637ba40e1"
  },
  "kernelspec": {
   "name": "python3",
   "display_name": "Python 3.9.0 64-bit ('venv': virtualenv)"
  },
  "language_info": {
   "codemirror_mode": {
    "name": "ipython",
    "version": 3
   },
   "file_extension": ".py",
   "mimetype": "text/x-python",
   "name": "python",
   "nbconvert_exporter": "python",
   "pygments_lexer": "ipython3",
   "version": "3.9.0"
  }
 },
 "nbformat": 4,
 "nbformat_minor": 2
}
