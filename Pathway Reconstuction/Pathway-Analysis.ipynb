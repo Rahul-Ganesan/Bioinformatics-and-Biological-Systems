{
 "cells": [
  {
   "cell_type": "code",
   "execution_count": 76,
   "id": "565e5e49",
   "metadata": {},
   "outputs": [],
   "source": [
    "import escher\n",
    "from escher import Builder\n",
    "import cobra\n",
    "from time import sleep"
   ]
  },
  {
   "cell_type": "code",
   "execution_count": 77,
   "id": "d81ca559",
   "metadata": {},
   "outputs": [],
   "source": [
    "escher.rc['never_ask_before_quit'] = True"
   ]
  },
  {
   "cell_type": "markdown",
   "id": "e032b1cf",
   "metadata": {},
   "source": [
    "builder"
   ]
  },
  {
   "cell_type": "code",
   "execution_count": 78,
   "id": "1ac7b81c",
   "metadata": {},
   "outputs": [
    {
     "data": {
      "application/vnd.jupyter.widget-view+json": {
       "model_id": "a03b6b215e0d48949fb09694f8e58021",
       "version_major": 2,
       "version_minor": 0
      },
      "text/plain": [
       "Builder(never_ask_before_quit=True)"
      ]
     },
     "metadata": {},
     "output_type": "display_data"
    }
   ],
   "source": [
    "\n",
    "builder = Builder(\n",
    "    model_json='iAB_RBC_283.json'\n",
    ")\n",
    "builder\n",
    "    "
   ]
  },
  {
   "cell_type": "code",
   "execution_count": 79,
   "id": "f951d34e",
   "metadata": {},
   "outputs": [
    {
     "data": {
      "text/plain": [
       "[{'organism': 'Saccharomyces cerevisiae',\n",
       "  'map_name': 'iMM904.Central carbon metabolism'},\n",
       " {'organism': 'Homo sapiens',\n",
       "  'map_name': 'RECON1.Inositol retinol metabolism'},\n",
       " {'organism': 'Homo sapiens', 'map_name': 'RECON1.Glycolysis TCA PPP'},\n",
       " {'organism': 'Homo sapiens', 'map_name': 'RECON1.Tryptophan metabolism'},\n",
       " {'organism': 'Homo sapiens', 'map_name': 'RECON1.Carbohydrate metabolism'},\n",
       " {'organism': 'Homo sapiens',\n",
       "  'map_name': 'RECON1.Amino acid metabolism (partial)'},\n",
       " {'organism': 'Escherichia coli', 'map_name': 'iJO1366.Nucleotide metabolism'},\n",
       " {'organism': 'Escherichia coli',\n",
       "  'map_name': 'iJO1366.Fatty acid biosynthesis (saturated)'},\n",
       " {'organism': 'Escherichia coli',\n",
       "  'map_name': 'iJO1366.Nucleotide and histidine biosynthesis'},\n",
       " {'organism': 'Escherichia coli', 'map_name': 'e_coli_core.Core metabolism'},\n",
       " {'organism': 'Escherichia coli', 'map_name': 'iJO1366.Central metabolism'},\n",
       " {'organism': 'Escherichia coli',\n",
       "  'map_name': 'iJO1366.Fatty acid beta-oxidation'}]"
      ]
     },
     "execution_count": 79,
     "metadata": {},
     "output_type": "execute_result"
    }
   ],
   "source": [
    "escher.list_available_maps()"
   ]
  },
  {
   "cell_type": "code",
   "execution_count": 80,
   "id": "69ada92b",
   "metadata": {},
   "outputs": [
    {
     "name": "stdout",
     "output_type": "stream",
     "text": [
      "Downloading Map from https://escher.github.io/1-0-0/6/maps/Escherichia%20coli/e_coli_core.Core%20metabolism.json\n",
      "Downloading Model from https://escher.github.io/1-0-0/6/models/Escherichia%20coli/e_coli_core.json\n"
     ]
    }
   ],
   "source": [
    "builder = Builder(\n",
    "    map_name='e_coli_core.Core metabolism',\n",
    "    model_name='e_coli_core',\n",
    ")"
   ]
  },
  {
   "cell_type": "code",
   "execution_count": 81,
   "id": "c3813311",
   "metadata": {
    "scrolled": true
   },
   "outputs": [
    {
     "data": {
      "application/vnd.jupyter.widget-view+json": {
       "model_id": "34f746d9033e446ab09f94282b99ccc2",
       "version_major": 2,
       "version_minor": 0
      },
      "text/plain": [
       "Builder(never_ask_before_quit=True)"
      ]
     },
     "metadata": {},
     "output_type": "display_data"
    }
   ],
   "source": [
    "\n",
    "builder"
   ]
  },
  {
   "cell_type": "code",
   "execution_count": 82,
   "id": "22633fb7",
   "metadata": {},
   "outputs": [
    {
     "name": "stdout",
     "output_type": "stream",
     "text": [
      "Downloading Map from https://escher.github.io/1-0-0/6/maps/Escherichia%20coli/iJO1366.Central%20metabolism.json\n"
     ]
    }
   ],
   "source": [
    "# Load an Escher map\n",
    "builder.map_name = 'iJO1366.Central metabolism'"
   ]
  },
  {
   "cell_type": "code",
   "execution_count": 83,
   "id": "3acc251d",
   "metadata": {},
   "outputs": [],
   "source": [
    "\n",
    "# Load a COBRA model\n",
    "builder.model_name = 'e_coli_core'"
   ]
  },
  {
   "cell_type": "code",
   "execution_count": 84,
   "id": "a477c26f",
   "metadata": {},
   "outputs": [],
   "source": [
    "\n",
    "# Find any reactions that are in the map and not in the model, and turn them red\n",
    "builder.highlight_missing = True"
   ]
  },
  {
   "cell_type": "code",
   "execution_count": 85,
   "id": "f5950387",
   "metadata": {},
   "outputs": [],
   "source": [
    "\n",
    "builder.model = cobra.io.load_json_model('iJO1366.json')"
   ]
  },
  {
   "cell_type": "code",
   "execution_count": 86,
   "id": "906da38c",
   "metadata": {},
   "outputs": [],
   "source": [
    "solution = builder.model.optimize()\n",
    "builder.reaction_data = solution.fluxes\n",
    "\n",
    "# Add some data for metabolites\n",
    "builder.metabolite_data = solution.shadow_prices\n",
    "\n",
    "\n",
    "# Add some data for metabolites\n",
    "builder.metabolite_data = solution.shadow_prices\n",
    "\n",
    "builder.reaction_scale = [\n",
    "    { 'type': 'min', 'color': '#000000', 'size': 12 },\n",
    "    { 'type': 'median', 'color': '#ffffff', 'size': 20 },\n",
    "    { 'type': 'max', 'color': '#ff0000', 'size': 25 }\n",
    "]\n",
    "\n",
    "builder.reaction_scale_preset = 'GaBuRd'\n",
    "\n",
    "\n",
    "# Make all the arrows three times as thick\n",
    "builder.reaction_scale = [\n",
    "    {k: v * 3 if k == 'size' else v for k, v in x.items()}\n",
    "    for x in builder.reaction_scale\n",
    "]"
   ]
  },
  {
   "cell_type": "code",
   "execution_count": 87,
   "id": "7dcd4c07",
   "metadata": {},
   "outputs": [
    {
     "name": "stdout",
     "output_type": "stream",
     "text": [
      "Downloading Model from https://escher.github.io/1-0-0/6/models/Escherichia%20coli/e_coli_core.json\n"
     ]
    },
    {
     "data": {
      "application/vnd.jupyter.widget-view+json": {
       "model_id": "6ccac6872d184d64b9410724fcdf60d6",
       "version_major": 2,
       "version_minor": 0
      },
      "text/plain": [
       "Builder(height=600, never_ask_before_quit=True)"
      ]
     },
     "metadata": {},
     "output_type": "display_data"
    }
   ],
   "source": [
    "builder = Builder(\n",
    "    height=600,\n",
    "    map_name=None,\n",
    "    model_name='e_coli_core',\n",
    "    map_json='https://escher.github.io/1-0-0/5/maps/Escherichia%20coli/e_coli_core.Core%20metabolism.json',\n",
    ")\n",
    "builder"
   ]
  },
  {
   "cell_type": "code",
   "execution_count": 88,
   "id": "a4d50e69",
   "metadata": {},
   "outputs": [],
   "source": [
    "model = cobra.io.load_json_model('e_coli_core.json')"
   ]
  },
  {
   "cell_type": "code",
   "execution_count": 89,
   "id": "3d7e315c",
   "metadata": {},
   "outputs": [],
   "source": [
    "reverse = False\n",
    "step = 0.1\n",
    "timestep = 0.1\n",
    "duration = 15 # seconds\n",
    "lim = [0, 0.5]\n",
    "val = lim[-1]\n",
    "for _ in range(int(duration / timestep)):\n",
    "    model.reactions.EX_o2_e.lower_bound = -val\n",
    "    solution = model.optimize()\n",
    "    builder.reaction_data = solution.fluxes\n",
    "    if val <= lim[0]:\n",
    "        reverse = True\n",
    "    if val >= lim[1]:\n",
    "        reverse = False\n",
    "    if reverse:\n",
    "        val += step\n",
    "    else:\n",
    "        val -= step\n",
    "    sleep(timestep)"
   ]
  },
  {
   "cell_type": "code",
   "execution_count": null,
   "id": "6df1bb5d",
   "metadata": {},
   "outputs": [],
   "source": [
    "builder.save_html('example_map.html')"
   ]
  }
 ],
 "metadata": {
  "kernelspec": {
   "display_name": "Python 3",
   "language": "python",
   "name": "python3"
  },
  "language_info": {
   "codemirror_mode": {
    "name": "ipython",
    "version": 3
   },
   "file_extension": ".py",
   "mimetype": "text/x-python",
   "name": "python",
   "nbconvert_exporter": "python",
   "pygments_lexer": "ipython3",
   "version": "3.9.7"
  }
 },
 "nbformat": 4,
 "nbformat_minor": 5
}
